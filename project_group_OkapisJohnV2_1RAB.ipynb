{
  "nbformat": 4,
  "nbformat_minor": 0,
  "metadata": {
    "colab": {
      "name": "project_group_OkapisJohnV2.1RAB.ipynb",
      "provenance": [],
      "collapsed_sections": [],
      "include_colab_link": true
    },
    "kernelspec": {
      "display_name": "Python 3",
      "language": "python",
      "name": "python3"
    },
    "language_info": {
      "codemirror_mode": {
        "name": "ipython",
        "version": 3
      },
      "file_extension": ".py",
      "mimetype": "text/x-python",
      "name": "python",
      "nbconvert_exporter": "python",
      "pygments_lexer": "ipython3",
      "version": "3.7.6"
    }
  },
  "cells": [
    {
      "cell_type": "markdown",
      "metadata": {
        "id": "view-in-github",
        "colab_type": "text"
      },
      "source": [
        "<a href=\"https://colab.research.google.com/github/cindyhfls/NMA_DL_2021_project/blob/main/project_group_OkapisJohnV2_1RAB.ipynb\" target=\"_parent\"><img src=\"https://colab.research.google.com/assets/colab-badge.svg\" alt=\"Open In Colab\"/></a>"
      ]
    },
    {
      "cell_type": "code",
      "metadata": {
        "id": "d6rO_EEGCbh_"
      },
      "source": [
        ""
      ],
      "execution_count": null,
      "outputs": []
    },
    {
      "cell_type": "code",
      "metadata": {
        "id": "Ru9UAsf_uQFJ"
      },
      "source": [
        ""
      ],
      "execution_count": null,
      "outputs": []
    },
    {
      "cell_type": "markdown",
      "metadata": {
        "id": "pg0Ta9TfMBDc"
      },
      "source": [
        "\n",
        "To-do: \n",
        "\n",
        "* helper functions to trim and bin data - \n",
        "* simple correlations\n",
        "* visualization/summary of dataset\n",
        "* build network?\n",
        "* align spikes to move (0-500 ms after response)\n",
        "\n"
      ]
    },
    {
      "cell_type": "code",
      "metadata": {
        "id": "MWiCcZ2Xz44h",
        "cellView": "form"
      },
      "source": [
        "# Data Loading\n",
        "\n",
        "#@title Data retrieval\n",
        "import os, requests\n",
        "\n",
        "fname = []\n",
        "for j in range(3):\n",
        "  fname.append('steinmetz_part%d.npz'%j)\n",
        "url = [\"https://osf.io/agvxh/download\"]\n",
        "url.append(\"https://osf.io/uv3mw/download\")\n",
        "url.append(\"https://osf.io/ehmw2/download\")\n",
        "\n",
        "for j in range(len(url)):\n",
        "  if not os.path.isfile(fname[j]):\n",
        "    try:\n",
        "      r = requests.get(url[j])\n",
        "    except requests.ConnectionError:\n",
        "      print(\"!!! Failed to download data !!!\")\n",
        "    else:\n",
        "      if r.status_code != requests.codes.ok:\n",
        "        print(\"!!! Failed to download data !!!\")\n",
        "      else:\n",
        "        with open(fname[j], \"wb\") as fid:\n",
        "          fid.write(r.content)"
      ],
      "execution_count": 1,
      "outputs": []
    },
    {
      "cell_type": "code",
      "metadata": {
        "id": "SHRR0PV20BqZ",
        "cellView": "form"
      },
      "source": [
        "#@title Import matplotlib and set defaults\n",
        "from matplotlib import rcParams \n",
        "from matplotlib import pyplot as plt\n",
        "\n",
        "\n",
        "import torch\n",
        "from torch.utils.data import Dataset, DataLoader\n",
        "from torchvision import transforms, utils\n",
        "import numpy as np\n",
        "import torch.nn as nn\n",
        "import torch.nn.functional as F\n",
        "from matplotlib import pyplot as plt\n",
        "from torch.utils.data.dataloader import default_collate\n",
        "\n",
        "\n",
        "rcParams['figure.figsize'] = [20, 4]\n",
        "rcParams['font.size'] =15\n",
        "rcParams['axes.spines.top'] = False\n",
        "rcParams['axes.spines.right'] = False\n",
        "rcParams['figure.autolayout'] = True"
      ],
      "execution_count": 92,
      "outputs": []
    },
    {
      "cell_type": "code",
      "metadata": {
        "id": "QVGLAgJP0DyE"
      },
      "source": [
        "#@title Data loading\n",
        "import numpy as np\n",
        "\n",
        "alldat = np.array([])\n",
        "for j in range(len(fname)):\n",
        "  alldat = np.hstack((alldat, np.load('steinmetz_part%d.npz'%j, allow_pickle=True)['dat']))"
      ],
      "execution_count": 3,
      "outputs": []
    },
    {
      "cell_type": "code",
      "metadata": {
        "colab": {
          "base_uri": "https://localhost:8080/"
        },
        "id": "zP4xE0-30qRG",
        "cellView": "form",
        "outputId": "83050f4b-710c-4799-bde1-01f03f117b93"
      },
      "source": [
        "#@title Print Keys\n",
        "print(alldat[0].keys())\n",
        "#print(np.size(alldat[0].spks))\n"
      ],
      "execution_count": 93,
      "outputs": [
        {
          "output_type": "stream",
          "text": [
            "dict_keys(['spks', 'wheel', 'pupil', 'response', 'response_time', 'bin_size', 'stim_onset', 'contrast_right', 'contrast_left', 'brain_area', 'feedback_time', 'feedback_type', 'gocue', 'mouse_name', 'date_exp', 'trough_to_peak', 'active_trials', 'contrast_left_passive', 'contrast_right_passive', 'spks_passive', 'pupil_passive', 'wheel_passive', 'prev_reward', 'ccf', 'ccf_axes', 'cellid_orig', 'reaction_time', 'face', 'face_passive', 'licks', 'licks_passive'])\n"
          ],
          "name": "stdout"
        }
      ]
    },
    {
      "cell_type": "code",
      "metadata": {
        "id": "jyNZF8eu2GJa"
      },
      "source": [
        "#@title Define Steinmetz Class\n",
        "import copy\n",
        "class SteinmetzSession:\n",
        "  data = []\n",
        "  binSize = 10\n",
        "  nTrials = []\n",
        "  nNeurons = []\n",
        "  trialLen = 0\n",
        "  trimStart = \"trialStart\"\n",
        "  trimEnd =  \"trialEnd\"\n",
        "  def __init__(self, dataIn):\n",
        "    self.data = copy.deepcopy(dataIn)\n",
        "    dims1 = np.shape(dataIn['spks'])\n",
        "    self.nTrials = dims1[1]\n",
        "    self.nNeurons = dims1[0]\n",
        "    self.trialLen = dims1[2]\n",
        "\n",
        "  def binData(self, binSizeIn): # Inputs: data, scalar for binning. Combines binSizeIn bins together to bin data smaller Ex. binSizeIn of 5 on the original dataset combines every 5 10 ms bins into one 50 ms bin across all trials.\n",
        "    varsToRebinSum = ['spks']\n",
        "    varsToRebinMean = ['wheel', 'pupil']\n",
        "    spikes = self.data['spks']\n",
        "    histVec = range(0,self.trialLen+1, binSizeIn)\n",
        "    spikesBin = np.zeros((self.nNeurons, self.nTrials, len(histVec)))\n",
        "    print(histVec)\n",
        "    for trial in range(self.nTrials):\n",
        "      spikes1 = np.squeeze(spikes[:,trial,:])\n",
        "      for time1 in range(len(histVec)-1):\n",
        "        spikesBin[:,trial, time1] = np.sum(spikes1[:, histVec[time1]:histVec[time1+1]-1], axis=1)\n",
        "\n",
        "    spikesBin = spikesBin[:,:,:-1]\n",
        "    self.data['spks'] = spikesBin\n",
        "    self.trialLen = len(histVec) -1\n",
        "    self.binSize = self.binSize*binSizeIn\n",
        "\n",
        "    \n",
        "    s = \"Binned spikes, turning a \" + repr(np.shape(spikes)) + \" matrix into a \" + repr(np.shape(spikesBin)) + \" matrix\"\n",
        "    print(s)\n",
        "\n",
        "  def plotTrial(self, trialNum): # Basic function to plot the firing rate during a single trial. Used for debugging trimming and binning\n",
        "    plt.imshow(np.squeeze(self.data['spks'][:,trialNum,:])**.5, aspect = 'auto')\n",
        "    plt.xlabel(\"Time (bins)\")\n",
        "    plt.ylabel(\"Neuron #\")\n",
        "    \n",
        "  def realign_data_to_movement(self,length_time): # input has to be n * nTrials * nbins\n",
        "    align_time_in_bins = np.round(self.data['response_time']/self.binSize)+ int(0.5/self.binSize) # has to add 0.5 s because the first 0.5 s is pre-stimulus\n",
        "    length_time_in_bins = int(length_time/self.binSize)\n",
        "    validtrials = self.data['response']!=0\n",
        "    maxtime = self.trialLen\n",
        "    newshape = (self.nNeurons,self.nTrials)\n",
        "    newshape+=(length_time_in_bins,)\n",
        "    newdata = np.empty(newshape)\n",
        "    for count,align_time_curr_trial in enumerate(align_time_in_bins):\n",
        "      if (validtrials[count]==0)|(align_time_curr_trial+length_time_in_bins>maxtime) :\n",
        "        validtrials[count] = 0\n",
        "      else:\n",
        "        newdata[:,count,:]= self.data['spks'][:,count,int(align_time_curr_trial):int(align_time_curr_trial)+length_time_in_bins]\n",
        "    newdata = newdata[:,validtrials,:]\n",
        "    self.data['spks'] = newdata\n",
        "    self.validtrials = validtrials\n",
        "\n",
        "    print('spikes aligned to movement')\n",
        "    # return newdata,validtrials\n",
        "  \n",
        "  def get_areas(self):\n",
        "    print(set(list(self.data['brain_area'])))\n",
        "\n",
        "  def extractROI(self, region): #### extract neurons from single region\n",
        "    rmrt=list(np.where(self.data['brain_area']!=region))[0]\n",
        "    print(f' removing data from {len(rmrt)} neurons not contained in {region} ')\n",
        "    self.data['spks']=np.delete(self.data['spks'],rmrt,axis=0)\n",
        "    neur=len(self.data['spks'])\n",
        "    print(f'neurons remaining in trial {neur}')\n",
        "    self.data['brain_area']=np.delete(self.data['brain_area'],rmrt,axis=0)\n",
        "    self.data['ccf']=np.delete(self.data['ccf'],rmrt,axis=0)\n",
        "    \n",
        "  def FlattenTs(self):\n",
        "    self.data['spks']=np.hstack(self.data['spks'][:])\n",
        "\n",
        "  def trials_first(self):\n",
        "    return torch.permute(torch.tensor(self.data['spks']),(1,0,2))\n",
        "\n",
        "  def trimData(self, trimStartIn, trimEndIn): # TODO: Implement trial trimming\n",
        "    return 0\n",
        "\n",
        "  def dataToNN(self, region1, region2):# TODO: Implement data readout to Neural network.\n",
        "    return 0\n",
        "\n",
        "  def smoothFR(self, smoothingWidth):# TODO: Smooth the data and save it back to the data structure\n",
        "    return 0\n",
        "\n",
        "\n",
        "\n",
        "\n",
        "\n",
        "s31=SteinmetzSession(alldat[30])\n"
      ],
      "execution_count": 140,
      "outputs": []
    },
    {
      "cell_type": "code",
      "metadata": {
        "colab": {
          "base_uri": "https://localhost:8080/",
          "height": 342
        },
        "id": "S4PaVL2Y7-fW",
        "outputId": "639167c9-fcaf-42e4-b2e2-9c02706d730a"
      },
      "source": [
        "### bin the data \n",
        "s31.binData(50)\n",
        "## plot a trial\n",
        "s31.plotTrial(42)\n",
        "### print areas\n",
        "s31.get_areas()"
      ],
      "execution_count": 95,
      "outputs": [
        {
          "output_type": "stream",
          "text": [
            "range(0, 251, 50)\n",
            "Binned spikes, turning a (977, 237, 250) matrix into a (977, 237, 5) matrix\n",
            "{'TH', 'SCm', 'SNr', 'POST', 'OLF', 'ORB', 'CA3', 'MOs'}\n"
          ],
          "name": "stdout"
        },
        {
          "output_type": "display_data",
          "data": {
            "image/png": "[encoded data removed]",
            "text/plain": [
              "<Figure size 1440x288 with 1 Axes>"
            ]
          },
          "metadata": {
            "tags": [],
            "needs_background": "light"
          }
        }
      ]
    },
    {
      "cell_type": "code",
      "metadata": {
        "colab": {
          "base_uri": "https://localhost:8080/",
          "height": 324
        },
        "id": "lc9cEqZvRG3E",
        "outputId": "0a084312-8ef3-4f67-e218-03e9e47fd083"
      },
      "source": [
        "###remove all neurons not in motor cortex\n",
        "s31.extractROI('MOs')\n",
        "### plot a trial from motor neuron\n",
        "s31.plotTrial(42)"
      ],
      "execution_count": 96,
      "outputs": [
        {
          "output_type": "stream",
          "text": [
            " removing data from 696 neurons not contained in MOs \n",
            "neurons remaining in trial 281\n"
          ],
          "name": "stdout"
        },
        {
          "output_type": "display_data",
          "data": {
            "image/png": "[encoded data removed]",
            "text/plain": [
              "<Figure size 1440x288 with 1 Axes>"
            ]
          },
          "metadata": {
            "tags": [],
            "needs_background": "light"
          }
        }
      ]
    },
    {
      "cell_type": "code",
      "metadata": {
        "id": "S-3NBZl0kJIT"
      },
      "source": [
        "# s31.FlattenTs()"
      ],
      "execution_count": 74,
      "outputs": []
    },
    {
      "cell_type": "code",
      "metadata": {
        "id": "3Ju90wuxV1ix",
        "cellView": "form"
      },
      "source": [
        "#@title Set up Dataset\n",
        "\n",
        "### dataset definition\n",
        "class NeuronDataset(Dataset):\n",
        "  def __init__(self, X, Y):\n",
        "    self.X = X\n",
        "    self.Y = Y\n",
        "    \n",
        "  def __len__(self):\n",
        "    return len(self.Y)\n",
        "    \n",
        "  def __getitem__(self, idx):\n",
        "    dataP = self.Y[idx]\n",
        "    data = self.X[idx]\n",
        "    sample = {\"X\": data, \"Y\": dataP}\n",
        "    return sample\n",
        "\n",
        "#### input the permuted matrix which places trial as first dimension\n",
        "ND=NeuronDataset(s31.trials_first(),s31.trials_first())"
      ],
      "execution_count": 158,
      "outputs": []
    },
    {
      "cell_type": "code",
      "metadata": {
        "cellView": "form",
        "id": "GDw3s6NI1lL7"
      },
      "source": [
        "#@title Split Dataset and Create Data Loaders  \n",
        "def split_dataset(ds,tr,v,tst):\n",
        "  tra=int(np.floor(len(ds)*tr)+1)\n",
        "  va=int(np.floor(len(ds)*v))\n",
        "  ts=int(np.floor(len(ds)*tst))\n",
        "  train,val,test=torch.utils.data.random_split(ND,[tra,va,ts])\n",
        "  return train,val,test\n",
        "\n",
        "\n",
        "\n",
        "train,val,test=split_dataset(ND,0.6,0.3,0.1)\n",
        "\n",
        "#### set up dataloaders\n",
        "DL_Train = DataLoader(train, batch_size=20)\n",
        "DL_Val = DataLoader(val, batch_size=20)\n",
        "DL_Test = DataLoader(test, batch_size=20)"
      ],
      "execution_count": 159,
      "outputs": []
    },
    {
      "cell_type": "code",
      "metadata": {
        "colab": {
          "base_uri": "https://localhost:8080/"
        },
        "id": "O93Dp7s5wT3m",
        "outputId": "3afa1adf-048a-4b0e-e84c-6e6285a62c98"
      },
      "source": [
        "#### check that the data loader is iterating correctly \n",
        "print('\\nFirst iteration of data set: ', next(iter(val)), '\\n')\n",
        "print('Length of data set: ', len(train), '\\n')"
      ],
      "execution_count": 162,
      "outputs": [
        {
          "output_type": "stream",
          "text": [
            "\n",
            "First iteration of data set:  {'X': tensor([[0, 0, 0,  ..., 0, 0, 0],\n",
            "        [0, 0, 0,  ..., 0, 0, 0],\n",
            "        [0, 0, 0,  ..., 0, 0, 0],\n",
            "        ...,\n",
            "        [0, 0, 0,  ..., 0, 0, 0],\n",
            "        [0, 0, 0,  ..., 0, 0, 0],\n",
            "        [0, 0, 0,  ..., 0, 0, 0]], dtype=torch.int8), 'Y': tensor([[0, 0, 0,  ..., 0, 0, 0],\n",
            "        [0, 0, 0,  ..., 0, 0, 0],\n",
            "        [0, 0, 0,  ..., 0, 0, 0],\n",
            "        ...,\n",
            "        [0, 0, 0,  ..., 0, 0, 0],\n",
            "        [0, 0, 0,  ..., 0, 0, 0],\n",
            "        [0, 0, 0,  ..., 0, 0, 0]], dtype=torch.int8)} \n",
            "\n",
            "Length of data set:  143 \n",
            "\n"
          ],
          "name": "stdout"
        }
      ]
    },
    {
      "cell_type": "code",
      "metadata": {
        "id": "Ok27SjoVsOEQ"
      },
      "source": [
        ""
      ],
      "execution_count": 156,
      "outputs": []
    },
    {
      "cell_type": "code",
      "metadata": {
        "colab": {
          "base_uri": "https://localhost:8080/"
        },
        "id": "44BcPW_GuSMC",
        "outputId": "2ec6f461-9ce4-42fa-dccf-e0d4cc7a209f"
      },
      "source": [
        "\n",
        "class Net(nn.Module): # our model\n",
        "  def __init__(self, ncomp, NN1, NN2, bidi=True):\n",
        "    super(Net, self).__init__()\n",
        "\n",
        "    # play with some of the options in the RNN!\n",
        "    self.rnn1 = nn.RNN(NN1, ncomp, num_layers = 1, dropout = 0, # MO\n",
        "                      bidirectional = bidi, nonlinearity = 'tanh')\n",
        "    self.rnn2 = nn.RNN(NN2,ncomp,num_layers = 1, dropout = 0, bidirectional = bidi, nonlinearity = 'tanh') #TH\n",
        "\n",
        "    self.fclatent = nn.Linear(ncomp,ncomp)\n",
        "    self.fc = nn.Linear(ncomp,NN1)\n",
        "\n",
        "  def forward(self, x0,x1):\n",
        "\n",
        "    y2 = self.rnn2(x1)[0] # ncomp TH\n",
        "    y =  self.rnn1(x0)[0] # rnn1 weight is frozen MOs\n",
        "    y += self.fclatent(y2)\n",
        "\n",
        "    if self.rnn.bidirectional:\n",
        "      # if the rnn is bidirectional, it concatenates the activations from the forward and backward pass\n",
        "      # we want to add them instead, so as to enforce the latents to match between the forward and backward pass\n",
        "      q = (y[:, :, :ncomp] + y[:, :, ncomp:])/2\n",
        "    else:\n",
        "      q = y\n",
        "\n",
        "    # the softplus function is just like a relu but it's smoothed out so we can't predict 0\n",
        "    # if we predict 0 and there was a spike, that's an instant Inf in the Poisson log-likelihood which leads to failure\n",
        "    z = F.softplus(self.fc(q), 10)\n",
        "\n",
        "    return z, q\n",
        "\n",
        "mynetwork = Net(10,40,30)\n",
        "print(mynetwork)"
      ],
      "execution_count": 157,
      "outputs": [
        {
          "output_type": "stream",
          "text": [
            "Net(\n",
            "  (rnn1): RNN(40, 10, bidirectional=True)\n",
            "  (rnn2): RNN(30, 10, bidirectional=True)\n",
            "  (fclatent): Linear(in_features=10, out_features=10, bias=True)\n",
            "  (fc): Linear(in_features=10, out_features=40, bias=True)\n",
            ")\n"
          ],
          "name": "stdout"
        }
      ]
    },
    {
      "cell_type": "code",
      "metadata": {
        "id": "5V9llXOYsNzI"
      },
      "source": [
        "for (idx, batch) in enumerate(DL_DS):\n",
        "  pass\n",
        "      # print(idx, 'X:', batch['X'])"
      ],
      "execution_count": 90,
      "outputs": []
    },
    {
      "cell_type": "code",
      "metadata": {
        "id": "cHZuIqCsDb7o"
      },
      "source": [
        ""
      ],
      "execution_count": null,
      "outputs": []
    },
    {
      "cell_type": "code",
      "metadata": {
        "colab": {
          "base_uri": "https://localhost:8080/",
          "height": 134
        },
        "id": "iONxRXblKYHy",
        "outputId": "c9a74295-17ed-4e04-b0eb-8142a190dac6"
      },
      "source": [
        "#Parameters\n",
        "params = {'batch_size': 64,\n",
        "          'shuffle': True,\n",
        "          'num_workers': 6}\n",
        "max_epochs = 100\n",
        "\n",
        "# Datasets\n",
        "partition = # IDs\n",
        "labels = # Labels\n",
        "\n",
        "# Generators\n",
        "training_set = Dataset(partition['train'], labels)\n",
        "training_generator = torch.utils.data.DataLoader(training_set, **params)\n",
        "\n",
        "validation_set = Dataset(partition['validation'], labels)\n",
        "validation_generator = torch.utils.data.DataLoader(validation_set, **params)"
      ],
      "execution_count": null,
      "outputs": [
        {
          "output_type": "error",
          "ename": "SyntaxError",
          "evalue": "ignored",
          "traceback": [
            "\u001b[0;36m  File \u001b[0;32m\"<ipython-input-53-5cc229967d05>\"\u001b[0;36m, line \u001b[0;32m8\u001b[0m\n\u001b[0;31m    partition = # IDs\u001b[0m\n\u001b[0m                     ^\u001b[0m\n\u001b[0;31mSyntaxError\u001b[0m\u001b[0;31m:\u001b[0m invalid syntax\n"
          ]
        }
      ]
    },
    {
      "cell_type": "code",
      "metadata": {
        "colab": {
          "base_uri": "https://localhost:8080/"
        },
        "id": "k9bBuzK7QfF4",
        "outputId": "9e1852bf-9972-4996-87b0-6cebfb9053c8"
      },
      "source": [
        "import torch\n",
        "\n",
        "# @title Set device (GPU or CPU). Execute `set_device()`\n",
        "\n",
        "# inform the user if the notebook uses GPU or CPU.\n",
        "\n",
        "def set_device():\n",
        "  device = \"cuda\" if torch.cuda.is_available() else \"cpu\"\n",
        "  if device != \"cuda\":\n",
        "    print(\"WARNING: For this notebook to perform best, \"\n",
        "        \"if possible, in the menu under `Runtime` -> \"\n",
        "        \"`Change runtime type.`  select `GPU` \")\n",
        "  else:\n",
        "    print(\"GPU is enabled in this notebook.\")\n",
        "\n",
        "  return device\n",
        "\n",
        "\n",
        "\n",
        "device = set_device()\n"
      ],
      "execution_count": null,
      "outputs": [
        {
          "output_type": "stream",
          "text": [
            "GPU is enabled in this notebook.\n"
          ],
          "name": "stdout"
        }
      ]
    },
    {
      "cell_type": "code",
      "metadata": {
        "id": "Zu2mW21QlTVQ",
        "colab": {
          "base_uri": "https://localhost:8080/",
          "height": 489
        },
        "outputId": "2292f7f8-b7bf-4b8b-8908-0900af2a6988"
      },
      "source": [
        "# set the seed\n",
        "np.random.seed(42)\n",
        "\n",
        "# 100 trials is typical of neural data\n",
        "ntrials = 100\n",
        "\n",
        "# we simulate 200 neurons\n",
        "NN = 200\n",
        "\n",
        "# we will pretend like every \"bin\" is 10ms, so the trial length is 2500ms\n",
        "NT = 250\n",
        "\n",
        "# let's use 10 latent components\n",
        "ncomp = 10\n",
        "\n",
        "# this is the recurrent dynamics matrix, which we made diagonal for simplicity\n",
        "# values have to be smaller than 1 for stability\n",
        "A0 =  np.diag(.8 + .2 * np.random.rand(ncomp,))\n",
        "\n",
        "# this is the projection matrix from components to neurons\n",
        "C0 = .025 * np.random.randn(ncomp, NN)\n",
        "\n",
        "# We generate the dynamics of the low-d system. We initialize the latent state.\n",
        "\n",
        "# start by initializing the latents\n",
        "y       = 2 * np.random.randn(ncomp)\n",
        "latents = np.zeros((NT, ntrials, ncomp))\n",
        "# we run the dynamics forward and add noise (or \"innovations\") at each timestep\n",
        "for t in range(NT):\n",
        "  y = y @ A0 +  np.random.randn(ntrials, ncomp)\n",
        "  latents[t] = y\n",
        "\n",
        "# we now project the latents to the neuron space and threshold to generate firing rates\n",
        "rates = np.maximum(0, latents @ C0)\n",
        "\n",
        "# now we draw poisson counts to simulate the number of spikes a neuron fires randomly\n",
        "x = np.random.poisson(rates)\n",
        "x0 = torch.from_numpy(x[:, :, :200]).to(device).float()\n",
        "x1 = torch.from_numpy(x[:, :, 200:]).to(device).float()\n",
        "\n",
        "x0 = torch.permute(x0, (2,1,0))\n",
        "x0 = np.reshape(x0, (-1,200))\n",
        "\n",
        "\n",
        "x1 = torch.permute(x1, (2,1,0))\n",
        "x1 = np.reshape(x1, (-1,200))"
      ],
      "execution_count": null,
      "outputs": [
        {
          "output_type": "error",
          "ename": "TypeError",
          "evalue": "ignored",
          "traceback": [
            "\u001b[0;31m---------------------------------------------------------------------------\u001b[0m",
            "\u001b[0;31mTypeError\u001b[0m                                 Traceback (most recent call last)",
            "\u001b[0;32m/usr/local/lib/python3.7/dist-packages/numpy/core/fromnumeric.py\u001b[0m in \u001b[0;36m_wrapfunc\u001b[0;34m(obj, method, *args, **kwds)\u001b[0m\n\u001b[1;32m     57\u001b[0m     \u001b[0;32mtry\u001b[0m\u001b[0;34m:\u001b[0m\u001b[0;34m\u001b[0m\u001b[0;34m\u001b[0m\u001b[0m\n\u001b[0;32m---> 58\u001b[0;31m         \u001b[0;32mreturn\u001b[0m \u001b[0mbound\u001b[0m\u001b[0;34m(\u001b[0m\u001b[0;34m*\u001b[0m\u001b[0margs\u001b[0m\u001b[0;34m,\u001b[0m \u001b[0;34m**\u001b[0m\u001b[0mkwds\u001b[0m\u001b[0;34m)\u001b[0m\u001b[0;34m\u001b[0m\u001b[0;34m\u001b[0m\u001b[0m\n\u001b[0m\u001b[1;32m     59\u001b[0m     \u001b[0;32mexcept\u001b[0m \u001b[0mTypeError\u001b[0m\u001b[0;34m:\u001b[0m\u001b[0;34m\u001b[0m\u001b[0;34m\u001b[0m\u001b[0m\n",
            "\u001b[0;31mTypeError\u001b[0m: reshape() got an unexpected keyword argument 'order'",
            "\nDuring handling of the above exception, another exception occurred:\n",
            "\u001b[0;31mTypeError\u001b[0m                                 Traceback (most recent call last)",
            "\u001b[0;32m<ipython-input-18-53c7a8b1c7d3>\u001b[0m in \u001b[0;36m<module>\u001b[0;34m()\u001b[0m\n\u001b[1;32m     40\u001b[0m \u001b[0;34m\u001b[0m\u001b[0m\n\u001b[1;32m     41\u001b[0m \u001b[0mx0\u001b[0m \u001b[0;34m=\u001b[0m \u001b[0mtorch\u001b[0m\u001b[0;34m.\u001b[0m\u001b[0mpermute\u001b[0m\u001b[0;34m(\u001b[0m\u001b[0mx0\u001b[0m\u001b[0;34m,\u001b[0m \u001b[0;34m(\u001b[0m\u001b[0;36m2\u001b[0m\u001b[0;34m,\u001b[0m\u001b[0;36m1\u001b[0m\u001b[0;34m,\u001b[0m\u001b[0;36m0\u001b[0m\u001b[0;34m)\u001b[0m\u001b[0;34m)\u001b[0m\u001b[0;34m\u001b[0m\u001b[0;34m\u001b[0m\u001b[0m\n\u001b[0;32m---> 42\u001b[0;31m \u001b[0mx0\u001b[0m \u001b[0;34m=\u001b[0m \u001b[0mnp\u001b[0m\u001b[0;34m.\u001b[0m\u001b[0mreshape\u001b[0m\u001b[0;34m(\u001b[0m\u001b[0mx0\u001b[0m\u001b[0;34m,\u001b[0m \u001b[0;34m(\u001b[0m\u001b[0;34m-\u001b[0m\u001b[0;36m1\u001b[0m\u001b[0;34m,\u001b[0m\u001b[0;36m200\u001b[0m\u001b[0;34m)\u001b[0m\u001b[0;34m)\u001b[0m\u001b[0;34m\u001b[0m\u001b[0;34m\u001b[0m\u001b[0m\n\u001b[0m\u001b[1;32m     43\u001b[0m \u001b[0;34m\u001b[0m\u001b[0m\n\u001b[1;32m     44\u001b[0m \u001b[0;34m\u001b[0m\u001b[0m\n",
            "\u001b[0;32m<__array_function__ internals>\u001b[0m in \u001b[0;36mreshape\u001b[0;34m(*args, **kwargs)\u001b[0m\n",
            "\u001b[0;32m/usr/local/lib/python3.7/dist-packages/numpy/core/fromnumeric.py\u001b[0m in \u001b[0;36mreshape\u001b[0;34m(a, newshape, order)\u001b[0m\n\u001b[1;32m    297\u001b[0m            [5, 6]])\n\u001b[1;32m    298\u001b[0m     \"\"\"\n\u001b[0;32m--> 299\u001b[0;31m     \u001b[0;32mreturn\u001b[0m \u001b[0m_wrapfunc\u001b[0m\u001b[0;34m(\u001b[0m\u001b[0ma\u001b[0m\u001b[0;34m,\u001b[0m \u001b[0;34m'reshape'\u001b[0m\u001b[0;34m,\u001b[0m \u001b[0mnewshape\u001b[0m\u001b[0;34m,\u001b[0m \u001b[0morder\u001b[0m\u001b[0;34m=\u001b[0m\u001b[0morder\u001b[0m\u001b[0;34m)\u001b[0m\u001b[0;34m\u001b[0m\u001b[0;34m\u001b[0m\u001b[0m\n\u001b[0m\u001b[1;32m    300\u001b[0m \u001b[0;34m\u001b[0m\u001b[0m\n\u001b[1;32m    301\u001b[0m \u001b[0;34m\u001b[0m\u001b[0m\n",
            "\u001b[0;32m/usr/local/lib/python3.7/dist-packages/numpy/core/fromnumeric.py\u001b[0m in \u001b[0;36m_wrapfunc\u001b[0;34m(obj, method, *args, **kwds)\u001b[0m\n\u001b[1;32m     65\u001b[0m         \u001b[0;31m# Call _wrapit from within the except clause to ensure a potential\u001b[0m\u001b[0;34m\u001b[0m\u001b[0;34m\u001b[0m\u001b[0;34m\u001b[0m\u001b[0m\n\u001b[1;32m     66\u001b[0m         \u001b[0;31m# exception has a traceback chain.\u001b[0m\u001b[0;34m\u001b[0m\u001b[0;34m\u001b[0m\u001b[0;34m\u001b[0m\u001b[0m\n\u001b[0;32m---> 67\u001b[0;31m         \u001b[0;32mreturn\u001b[0m \u001b[0m_wrapit\u001b[0m\u001b[0;34m(\u001b[0m\u001b[0mobj\u001b[0m\u001b[0;34m,\u001b[0m \u001b[0mmethod\u001b[0m\u001b[0;34m,\u001b[0m \u001b[0;34m*\u001b[0m\u001b[0margs\u001b[0m\u001b[0;34m,\u001b[0m \u001b[0;34m**\u001b[0m\u001b[0mkwds\u001b[0m\u001b[0;34m)\u001b[0m\u001b[0;34m\u001b[0m\u001b[0;34m\u001b[0m\u001b[0m\n\u001b[0m\u001b[1;32m     68\u001b[0m \u001b[0;34m\u001b[0m\u001b[0m\n\u001b[1;32m     69\u001b[0m \u001b[0;34m\u001b[0m\u001b[0m\n",
            "\u001b[0;32m/usr/local/lib/python3.7/dist-packages/numpy/core/fromnumeric.py\u001b[0m in \u001b[0;36m_wrapit\u001b[0;34m(obj, method, *args, **kwds)\u001b[0m\n\u001b[1;32m     42\u001b[0m     \u001b[0;32mexcept\u001b[0m \u001b[0mAttributeError\u001b[0m\u001b[0;34m:\u001b[0m\u001b[0;34m\u001b[0m\u001b[0;34m\u001b[0m\u001b[0m\n\u001b[1;32m     43\u001b[0m         \u001b[0mwrap\u001b[0m \u001b[0;34m=\u001b[0m \u001b[0;32mNone\u001b[0m\u001b[0;34m\u001b[0m\u001b[0;34m\u001b[0m\u001b[0m\n\u001b[0;32m---> 44\u001b[0;31m     \u001b[0mresult\u001b[0m \u001b[0;34m=\u001b[0m \u001b[0mgetattr\u001b[0m\u001b[0;34m(\u001b[0m\u001b[0masarray\u001b[0m\u001b[0;34m(\u001b[0m\u001b[0mobj\u001b[0m\u001b[0;34m)\u001b[0m\u001b[0;34m,\u001b[0m \u001b[0mmethod\u001b[0m\u001b[0;34m)\u001b[0m\u001b[0;34m(\u001b[0m\u001b[0;34m*\u001b[0m\u001b[0margs\u001b[0m\u001b[0;34m,\u001b[0m \u001b[0;34m**\u001b[0m\u001b[0mkwds\u001b[0m\u001b[0;34m)\u001b[0m\u001b[0;34m\u001b[0m\u001b[0;34m\u001b[0m\u001b[0m\n\u001b[0m\u001b[1;32m     45\u001b[0m     \u001b[0;32mif\u001b[0m \u001b[0mwrap\u001b[0m\u001b[0;34m:\u001b[0m\u001b[0;34m\u001b[0m\u001b[0;34m\u001b[0m\u001b[0m\n\u001b[1;32m     46\u001b[0m         \u001b[0;32mif\u001b[0m \u001b[0;32mnot\u001b[0m \u001b[0misinstance\u001b[0m\u001b[0;34m(\u001b[0m\u001b[0mresult\u001b[0m\u001b[0;34m,\u001b[0m \u001b[0mmu\u001b[0m\u001b[0;34m.\u001b[0m\u001b[0mndarray\u001b[0m\u001b[0;34m)\u001b[0m\u001b[0;34m:\u001b[0m\u001b[0;34m\u001b[0m\u001b[0;34m\u001b[0m\u001b[0m\n",
            "\u001b[0;32m/usr/local/lib/python3.7/dist-packages/numpy/core/_asarray.py\u001b[0m in \u001b[0;36masarray\u001b[0;34m(a, dtype, order)\u001b[0m\n\u001b[1;32m     81\u001b[0m \u001b[0;34m\u001b[0m\u001b[0m\n\u001b[1;32m     82\u001b[0m     \"\"\"\n\u001b[0;32m---> 83\u001b[0;31m     \u001b[0;32mreturn\u001b[0m \u001b[0marray\u001b[0m\u001b[0;34m(\u001b[0m\u001b[0ma\u001b[0m\u001b[0;34m,\u001b[0m \u001b[0mdtype\u001b[0m\u001b[0;34m,\u001b[0m \u001b[0mcopy\u001b[0m\u001b[0;34m=\u001b[0m\u001b[0;32mFalse\u001b[0m\u001b[0;34m,\u001b[0m \u001b[0morder\u001b[0m\u001b[0;34m=\u001b[0m\u001b[0morder\u001b[0m\u001b[0;34m)\u001b[0m\u001b[0;34m\u001b[0m\u001b[0;34m\u001b[0m\u001b[0m\n\u001b[0m\u001b[1;32m     84\u001b[0m \u001b[0;34m\u001b[0m\u001b[0m\n\u001b[1;32m     85\u001b[0m \u001b[0;34m\u001b[0m\u001b[0m\n",
            "\u001b[0;32m/usr/local/lib/python3.7/dist-packages/torch/_tensor.py\u001b[0m in \u001b[0;36m__array__\u001b[0;34m(self, dtype)\u001b[0m\n\u001b[1;32m    641\u001b[0m             \u001b[0;32mreturn\u001b[0m \u001b[0mhandle_torch_function\u001b[0m\u001b[0;34m(\u001b[0m\u001b[0mTensor\u001b[0m\u001b[0;34m.\u001b[0m\u001b[0m__array__\u001b[0m\u001b[0;34m,\u001b[0m \u001b[0;34m(\u001b[0m\u001b[0mself\u001b[0m\u001b[0;34m,\u001b[0m\u001b[0;34m)\u001b[0m\u001b[0;34m,\u001b[0m \u001b[0mself\u001b[0m\u001b[0;34m,\u001b[0m \u001b[0mdtype\u001b[0m\u001b[0;34m=\u001b[0m\u001b[0mdtype\u001b[0m\u001b[0;34m)\u001b[0m\u001b[0;34m\u001b[0m\u001b[0;34m\u001b[0m\u001b[0m\n\u001b[1;32m    642\u001b[0m         \u001b[0;32mif\u001b[0m \u001b[0mdtype\u001b[0m \u001b[0;32mis\u001b[0m \u001b[0;32mNone\u001b[0m\u001b[0;34m:\u001b[0m\u001b[0;34m\u001b[0m\u001b[0;34m\u001b[0m\u001b[0m\n\u001b[0;32m--> 643\u001b[0;31m             \u001b[0;32mreturn\u001b[0m \u001b[0mself\u001b[0m\u001b[0;34m.\u001b[0m\u001b[0mnumpy\u001b[0m\u001b[0;34m(\u001b[0m\u001b[0;34m)\u001b[0m\u001b[0;34m\u001b[0m\u001b[0;34m\u001b[0m\u001b[0m\n\u001b[0m\u001b[1;32m    644\u001b[0m         \u001b[0;32melse\u001b[0m\u001b[0;34m:\u001b[0m\u001b[0;34m\u001b[0m\u001b[0;34m\u001b[0m\u001b[0m\n\u001b[1;32m    645\u001b[0m             \u001b[0;32mreturn\u001b[0m \u001b[0mself\u001b[0m\u001b[0;34m.\u001b[0m\u001b[0mnumpy\u001b[0m\u001b[0;34m(\u001b[0m\u001b[0;34m)\u001b[0m\u001b[0;34m.\u001b[0m\u001b[0mastype\u001b[0m\u001b[0;34m(\u001b[0m\u001b[0mdtype\u001b[0m\u001b[0;34m,\u001b[0m \u001b[0mcopy\u001b[0m\u001b[0;34m=\u001b[0m\u001b[0;32mFalse\u001b[0m\u001b[0;34m)\u001b[0m\u001b[0;34m\u001b[0m\u001b[0;34m\u001b[0m\u001b[0m\n",
            "\u001b[0;31mTypeError\u001b[0m: can't convert cuda:0 device type tensor to numpy. Use Tensor.cpu() to copy the tensor to host memory first."
          ]
        }
      ]
    },
    {
      "cell_type": "code",
      "metadata": {
        "id": "Or4Zk6X4fN19"
      },
      "source": [
        "import torch\n",
        "import torch.nn as nn\n",
        "import torchvision \n",
        "class AE(nn.Module):\n",
        "    def __init__(self, **kwargs):\n",
        "        super().__init__()\n",
        "        self.encoder_hidden_layer = nn.Linear(\n",
        "            in_features=kwargs[\"input_shape\"], out_features=128\n",
        "        )\n",
        "        self.encoder_output_layer = nn.Linear(\n",
        "            in_features=128, out_features=128\n",
        "        )\n",
        "        self.decoder_hidden_layer = nn.Linear(\n",
        "            in_features=128, out_features=128\n",
        "        )\n",
        "        self.decoder_output_layer = nn.Linear(\n",
        "            in_features=128, out_features=kwargs[\"input_shape\"]\n",
        "        )\n",
        "\n",
        "    def forward(self, features):\n",
        "        activation = self.encoder_hidden_layer(features)\n",
        "        activation = torch.relu(activation)\n",
        "        code = self.encoder_output_layer(activation)\n",
        "        code = torch.relu(code)\n",
        "        activation = self.decoder_hidden_layer(code)\n",
        "        activation = torch.relu(activation)\n",
        "        activation = self.decoder_output_layer(activation)\n",
        "        reconstructed = torch.relu(activation)\n",
        "        return reconstructed"
      ],
      "execution_count": null,
      "outputs": []
    },
    {
      "cell_type": "code",
      "metadata": {
        "colab": {
          "base_uri": "https://localhost:8080/"
        },
        "id": "dJzSEFcff0JT",
        "outputId": "a96a0355-f8db-4a02-c161-1ba281a51712"
      },
      "source": [
        "#  use gpu if available\n",
        "device = torch.device(\"cuda\" if torch.cuda.is_available() else \"cpu\")\n",
        "\n",
        "print(np.shape(x0))\n",
        "\n",
        "# create a model from `AE` autoencoder class\n",
        "# load it to the specified device, either gpu or cpu\n",
        "model = AE(input_shape=200).to(device)\n",
        "\n",
        "# create an optimizer object\n",
        "# Adam optimizer with learning rate 1e-3\n",
        "optimizer = torch.optim.Adam(model.parameters(), lr=1e-3)\n",
        "\n",
        "# mean-squared error loss\n",
        "criterion = nn.MSELoss()"
      ],
      "execution_count": null,
      "outputs": [
        {
          "output_type": "stream",
          "text": [
            "torch.Size([25000, 200])\n"
          ],
          "name": "stdout"
        }
      ]
    },
    {
      "cell_type": "code",
      "metadata": {
        "colab": {
          "base_uri": "https://localhost:8080/"
        },
        "id": "TMxo8WqsgeLn",
        "outputId": "02361a98-19d1-4ed7-f50d-6945e58c0b6e"
      },
      "source": [
        "\n"
      ],
      "execution_count": null,
      "outputs": [
        {
          "output_type": "stream",
          "text": [
            "/usr/local/lib/python3.7/dist-packages/torch/utils/data/dataloader.py:481: UserWarning: This DataLoader will create 4 worker processes in total. Our suggested max number of worker in current system is 2, which is smaller than what this DataLoader is going to create. Please be aware that excessive worker creation might get DataLoader running slow or even freeze, lower the worker number to avoid potential slowness/freeze if necessary.\n",
            "  cpuset_checked))\n"
          ],
          "name": "stderr"
        }
      ]
    },
    {
      "cell_type": "code",
      "metadata": {
        "colab": {
          "base_uri": "https://localhost:8080/"
        },
        "id": "b2TmwgcKiYEQ",
        "outputId": "9a185142-a4f4-40c5-802f-1ea14b453bb0"
      },
      "source": [
        ""
      ],
      "execution_count": null,
      "outputs": [
        {
          "output_type": "execute_result",
          "data": {
            "text/plain": [
              "torchvision.datasets.mnist.MNIST"
            ]
          },
          "metadata": {
            "tags": []
          },
          "execution_count": 17
        }
      ]
    },
    {
      "cell_type": "code",
      "metadata": {
        "colab": {
          "base_uri": "https://localhost:8080/"
        },
        "id": "vNBGqLl1gI50",
        "outputId": "61c3c8f3-72f3-40e5-b779-710771ffcb17"
      },
      "source": [
        "epochs = 100\n",
        "for epoch in range(epochs):\n",
        "    loss = 0\n",
        "\n",
        "    # reshape mini-batch data to [N, 784] matrix\n",
        "    # load it to the active device\n",
        "    \n",
        "    # reset the gradients back to zero\n",
        "    # PyTorch accumulates gradients on subsequent backward passes\n",
        "    optimizer.zero_grad()\n",
        "    \n",
        "    # compute reconstructions\n",
        "    print(type(x0))\n",
        "    outputs = model(x0)\n",
        "    \n",
        "    # compute training reconstruction loss\n",
        "    train_loss = criterion(outputs, x0)\n",
        "    \n",
        "    # compute accumulated gradients\n",
        "    train_loss.backward()\n",
        "    \n",
        "    # perform parameter update based on current gradients\n",
        "    optimizer.step()\n",
        "    \n",
        "    # add the mini-batch training loss to epoch loss\n",
        "    loss += train_loss.item()\n",
        "    \n",
        "\n",
        "    \n",
        "    # display the epoch training loss\n",
        "    print(\"epoch : {}/{}, loss = {:.6f}\".format(epoch + 1, epochs, loss))"
      ],
      "execution_count": null,
      "outputs": [
        {
          "output_type": "stream",
          "text": [
            "<class 'torch.Tensor'>\n",
            "epoch : 1/100, loss = 0.114980\n",
            "<class 'torch.Tensor'>\n",
            "epoch : 2/100, loss = 0.114161\n",
            "<class 'torch.Tensor'>\n",
            "epoch : 3/100, loss = 0.113437\n",
            "<class 'torch.Tensor'>\n",
            "epoch : 4/100, loss = 0.112906\n",
            "<class 'torch.Tensor'>\n",
            "epoch : 5/100, loss = 0.112515\n",
            "<class 'torch.Tensor'>\n",
            "epoch : 6/100, loss = 0.112154\n",
            "<class 'torch.Tensor'>\n",
            "epoch : 7/100, loss = 0.111754\n",
            "<class 'torch.Tensor'>\n",
            "epoch : 8/100, loss = 0.111305\n",
            "<class 'torch.Tensor'>\n",
            "epoch : 9/100, loss = 0.110838\n",
            "<class 'torch.Tensor'>\n",
            "epoch : 10/100, loss = 0.110377\n",
            "<class 'torch.Tensor'>\n",
            "epoch : 11/100, loss = 0.109895\n",
            "<class 'torch.Tensor'>\n",
            "epoch : 12/100, loss = 0.109346\n",
            "<class 'torch.Tensor'>\n",
            "epoch : 13/100, loss = 0.108746\n",
            "<class 'torch.Tensor'>\n",
            "epoch : 14/100, loss = 0.108141\n",
            "<class 'torch.Tensor'>\n",
            "epoch : 15/100, loss = 0.107535\n",
            "<class 'torch.Tensor'>\n",
            "epoch : 16/100, loss = 0.106912\n",
            "<class 'torch.Tensor'>\n",
            "epoch : 17/100, loss = 0.106286\n",
            "<class 'torch.Tensor'>\n",
            "epoch : 18/100, loss = 0.105669\n",
            "<class 'torch.Tensor'>\n",
            "epoch : 19/100, loss = 0.105014\n",
            "<class 'torch.Tensor'>\n",
            "epoch : 20/100, loss = 0.104320\n",
            "<class 'torch.Tensor'>\n",
            "epoch : 21/100, loss = 0.103633\n",
            "<class 'torch.Tensor'>\n",
            "epoch : 22/100, loss = 0.102956\n",
            "<class 'torch.Tensor'>\n",
            "epoch : 23/100, loss = 0.102281\n",
            "<class 'torch.Tensor'>\n",
            "epoch : 24/100, loss = 0.101601\n",
            "<class 'torch.Tensor'>\n",
            "epoch : 25/100, loss = 0.100894\n",
            "<class 'torch.Tensor'>\n",
            "epoch : 26/100, loss = 0.100167\n",
            "<class 'torch.Tensor'>\n",
            "epoch : 27/100, loss = 0.099419\n",
            "<class 'torch.Tensor'>\n",
            "epoch : 28/100, loss = 0.098644\n",
            "<class 'torch.Tensor'>\n",
            "epoch : 29/100, loss = 0.097851\n",
            "<class 'torch.Tensor'>\n",
            "epoch : 30/100, loss = 0.097028\n",
            "<class 'torch.Tensor'>\n",
            "epoch : 31/100, loss = 0.096209\n",
            "<class 'torch.Tensor'>\n",
            "epoch : 32/100, loss = 0.095421\n",
            "<class 'torch.Tensor'>\n",
            "epoch : 33/100, loss = 0.094655\n",
            "<class 'torch.Tensor'>\n",
            "epoch : 34/100, loss = 0.093890\n",
            "<class 'torch.Tensor'>\n",
            "epoch : 35/100, loss = 0.093119\n",
            "<class 'torch.Tensor'>\n",
            "epoch : 36/100, loss = 0.092333\n",
            "<class 'torch.Tensor'>\n",
            "epoch : 37/100, loss = 0.091517\n",
            "<class 'torch.Tensor'>\n",
            "epoch : 38/100, loss = 0.090674\n",
            "<class 'torch.Tensor'>\n",
            "epoch : 39/100, loss = 0.089854\n",
            "<class 'torch.Tensor'>\n",
            "epoch : 40/100, loss = 0.089080\n",
            "<class 'torch.Tensor'>\n",
            "epoch : 41/100, loss = 0.088353\n",
            "<class 'torch.Tensor'>\n",
            "epoch : 42/100, loss = 0.087705\n",
            "<class 'torch.Tensor'>\n",
            "epoch : 43/100, loss = 0.087114\n",
            "<class 'torch.Tensor'>\n",
            "epoch : 44/100, loss = 0.086246\n",
            "<class 'torch.Tensor'>\n",
            "epoch : 45/100, loss = 0.085433\n",
            "<class 'torch.Tensor'>\n",
            "epoch : 46/100, loss = 0.084962\n",
            "<class 'torch.Tensor'>\n",
            "epoch : 47/100, loss = 0.084341\n",
            "<class 'torch.Tensor'>\n",
            "epoch : 48/100, loss = 0.083513\n",
            "<class 'torch.Tensor'>\n",
            "epoch : 49/100, loss = 0.082948\n",
            "<class 'torch.Tensor'>\n",
            "epoch : 50/100, loss = 0.082413\n",
            "<class 'torch.Tensor'>\n",
            "epoch : 51/100, loss = 0.081720\n",
            "<class 'torch.Tensor'>\n",
            "epoch : 52/100, loss = 0.081085\n",
            "<class 'torch.Tensor'>\n",
            "epoch : 53/100, loss = 0.080576\n",
            "<class 'torch.Tensor'>\n",
            "epoch : 54/100, loss = 0.079948\n",
            "<class 'torch.Tensor'>\n",
            "epoch : 55/100, loss = 0.079289\n",
            "<class 'torch.Tensor'>\n",
            "epoch : 56/100, loss = 0.078787\n",
            "<class 'torch.Tensor'>\n",
            "epoch : 57/100, loss = 0.078231\n",
            "<class 'torch.Tensor'>\n",
            "epoch : 58/100, loss = 0.077581\n",
            "<class 'torch.Tensor'>\n",
            "epoch : 59/100, loss = 0.077066\n",
            "<class 'torch.Tensor'>\n",
            "epoch : 60/100, loss = 0.076511\n",
            "<class 'torch.Tensor'>\n",
            "epoch : 61/100, loss = 0.075924\n",
            "<class 'torch.Tensor'>\n",
            "epoch : 62/100, loss = 0.075410\n",
            "<class 'torch.Tensor'>\n",
            "epoch : 63/100, loss = 0.074871\n",
            "<class 'torch.Tensor'>\n",
            "epoch : 64/100, loss = 0.074350\n",
            "<class 'torch.Tensor'>\n",
            "epoch : 65/100, loss = 0.073958\n",
            "<class 'torch.Tensor'>\n",
            "epoch : 66/100, loss = 0.073591\n",
            "<class 'torch.Tensor'>\n",
            "epoch : 67/100, loss = 0.073084\n",
            "<class 'torch.Tensor'>\n",
            "epoch : 68/100, loss = 0.072384\n",
            "<class 'torch.Tensor'>\n",
            "epoch : 69/100, loss = 0.071931\n",
            "<class 'torch.Tensor'>\n",
            "epoch : 70/100, loss = 0.071575\n",
            "<class 'torch.Tensor'>\n",
            "epoch : 71/100, loss = 0.071025\n",
            "<class 'torch.Tensor'>\n",
            "epoch : 72/100, loss = 0.070519\n",
            "<class 'torch.Tensor'>\n",
            "epoch : 73/100, loss = 0.070131\n",
            "<class 'torch.Tensor'>\n",
            "epoch : 74/100, loss = 0.069650\n",
            "<class 'torch.Tensor'>\n",
            "epoch : 75/100, loss = 0.069191\n",
            "<class 'torch.Tensor'>\n",
            "epoch : 76/100, loss = 0.068777\n",
            "<class 'torch.Tensor'>\n",
            "epoch : 77/100, loss = 0.068318\n",
            "<class 'torch.Tensor'>\n",
            "epoch : 78/100, loss = 0.067902\n",
            "<class 'torch.Tensor'>\n",
            "epoch : 79/100, loss = 0.067479\n",
            "<class 'torch.Tensor'>\n",
            "epoch : 80/100, loss = 0.067043\n",
            "<class 'torch.Tensor'>\n",
            "epoch : 81/100, loss = 0.066620\n",
            "<class 'torch.Tensor'>\n",
            "epoch : 82/100, loss = 0.066212\n",
            "<class 'torch.Tensor'>\n",
            "epoch : 83/100, loss = 0.065798\n",
            "<class 'torch.Tensor'>\n",
            "epoch : 84/100, loss = 0.065379\n",
            "<class 'torch.Tensor'>\n",
            "epoch : 85/100, loss = 0.064975\n",
            "<class 'torch.Tensor'>\n",
            "epoch : 86/100, loss = 0.064572\n",
            "<class 'torch.Tensor'>\n",
            "epoch : 87/100, loss = 0.064169\n",
            "<class 'torch.Tensor'>\n",
            "epoch : 88/100, loss = 0.063772\n",
            "<class 'torch.Tensor'>\n",
            "epoch : 89/100, loss = 0.063380\n",
            "<class 'torch.Tensor'>\n",
            "epoch : 90/100, loss = 0.063012\n",
            "<class 'torch.Tensor'>\n",
            "epoch : 91/100, loss = 0.062665\n",
            "<class 'torch.Tensor'>\n",
            "epoch : 92/100, loss = 0.062389\n",
            "<class 'torch.Tensor'>\n",
            "epoch : 93/100, loss = 0.062303\n",
            "<class 'torch.Tensor'>\n",
            "epoch : 94/100, loss = 0.062295\n",
            "<class 'torch.Tensor'>\n",
            "epoch : 95/100, loss = 0.061824\n",
            "<class 'torch.Tensor'>\n",
            "epoch : 96/100, loss = 0.060929\n",
            "<class 'torch.Tensor'>\n",
            "epoch : 97/100, loss = 0.060821\n",
            "<class 'torch.Tensor'>\n",
            "epoch : 98/100, loss = 0.060834\n",
            "<class 'torch.Tensor'>\n",
            "epoch : 99/100, loss = 0.060179\n",
            "<class 'torch.Tensor'>\n",
            "epoch : 100/100, loss = 0.059797\n"
          ],
          "name": "stdout"
        }
      ]
    },
    {
      "cell_type": "code",
      "metadata": {
        "colab": {
          "base_uri": "https://localhost:8080/",
          "height": 287
        },
        "id": "YIWKAdEiUP9S",
        "outputId": "fbf59953-8291-4a42-de89-60735593f5db"
      },
      "source": [
        "s1.plotTrial(1)\n"
      ],
      "execution_count": null,
      "outputs": [
        {
          "output_type": "display_data",
          "data": {
            "image/png": "[encoded data removed]",
            "text/plain": [
              "<Figure size 1440x288 with 1 Axes>"
            ]
          },
          "metadata": {
            "tags": [],
            "needs_background": "light"
          }
        }
      ]
    },
    {
      "cell_type": "code",
      "metadata": {
        "colab": {
          "base_uri": "https://localhost:8080/",
          "height": 324
        },
        "id": "rGn5L_PjQ8H2",
        "outputId": "07180641-2003-4a73-dc85-53186d06f681"
      },
      "source": [
        "s1.binData(10)\n",
        "s1.plotTrial(1)"
      ],
      "execution_count": null,
      "outputs": [
        {
          "output_type": "stream",
          "text": [
            "range(0, 251, 10)\n",
            "Binned spikes, turning a (734, 214, 250) matrix into a (734, 214, 25) matrix\n"
          ],
          "name": "stdout"
        },
        {
          "output_type": "display_data",
          "data": {
            "image/png": "[encoded data removed]",
            "text/plain": [
              "<Figure size 1440x288 with 1 Axes>"
            ]
          },
          "metadata": {
            "tags": [],
            "needs_background": "light"
          }
        }
      ]
    }
  ]
}