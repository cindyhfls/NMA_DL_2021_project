{
 "cells": [
  {
   "cell_type": "markdown",
   "metadata": {
    "colab_type": "text",
    "id": "view-in-github"
   },
   "source": [
    "<a href=\"https://colab.research.google.com/github/cindyhfls/NMA_DL_2021_project/blob/main/project_group_OkapisJohn.ipynb\" target=\"_parent\"><img src=\"https://colab.research.google.com/assets/colab-badge.svg\" alt=\"Open In Colab\"/></a>"
   ]
  },
  {
   "cell_type": "markdown",
   "metadata": {
    "id": "pg0Ta9TfMBDc"
   },
   "source": [
    "\n",
    "To-do: \n",
    "\n",
    "* helper functions to trim and bin data - \n",
    "* simple correlations\n",
    "* visualization/summary of dataset\n",
    "* build network?\n",
    "* align spikes to move (0-500 ms after response)\n",
    "\n"
   ]
  },
  {
   "cell_type": "code",
   "execution_count": null,
   "metadata": {
    "id": "MWiCcZ2Xz44h"
   },
   "outputs": [],
   "source": [
    "# Data Loading\n",
    "\n",
    "#@title Data retrieval\n",
    "import os, requests\n",
    "\n",
    "fname = []\n",
    "for j in range(3):\n",
    "  fname.append('steinmetz_part%d.npz'%j)\n",
    "url = [\"https://osf.io/agvxh/download\"]\n",
    "url.append(\"https://osf.io/uv3mw/download\")\n",
    "url.append(\"https://osf.io/ehmw2/download\")\n",
    "\n",
    "for j in range(len(url)):\n",
    "  if not os.path.isfile(fname[j]):\n",
    "    try:\n",
    "      r = requests.get(url[j])\n",
    "    except requests.ConnectionError:\n",
    "      print(\"!!! Failed to download data !!!\")\n",
    "    else:\n",
    "      if r.status_code != requests.codes.ok:\n",
    "        print(\"!!! Failed to download data !!!\")\n",
    "      else:\n",
    "        with open(fname[j], \"wb\") as fid:\n",
    "          fid.write(r.content)"
   ]
  },
  {
   "cell_type": "code",
   "execution_count": null,
   "metadata": {
    "id": "SHRR0PV20BqZ"
   },
   "outputs": [],
   "source": [
    "#@title Import matplotlib and set defaults\n",
    "from matplotlib import rcParams \n",
    "from matplotlib import pyplot as plt\n",
    "\n",
    "rcParams['figure.figsize'] = [20, 4]\n",
    "rcParams['font.size'] =15\n",
    "rcParams['axes.spines.top'] = False\n",
    "rcParams['axes.spines.right'] = False\n",
    "rcParams['figure.autolayout'] = True"
   ]
  },
  {
   "cell_type": "code",
   "execution_count": null,
   "metadata": {
    "id": "QVGLAgJP0DyE"
   },
   "outputs": [],
   "source": [
    "#@title Data loading\n",
    "import numpy as np\n",
    "\n",
    "alldat = np.array([])\n",
    "for j in range(len(fname)):\n",
    "  alldat = np.hstack((alldat, np.load('steinmetz_part%d.npz'%j, allow_pickle=True)['dat']))"
   ]
  },
  {
   "cell_type": "code",
   "execution_count": null,
   "metadata": {
    "colab": {
     "base_uri": "https://localhost:8080/",
     "height": 234
    },
    "id": "zP4xE0-30qRG",
    "outputId": "0f450544-da03-4d04-a18b-a8b693be94b3"
   },
   "outputs": [
    {
     "name": "stdout",
     "output_type": "stream",
     "text": [
      "dict_keys(['spks', 'wheel', 'pupil', 'response', 'response_time', 'bin_size', 'stim_onset', 'contrast_right', 'contrast_left', 'brain_area', 'feedback_time', 'feedback_type', 'gocue', 'mouse_name', 'date_exp', 'trough_to_peak', 'active_trials', 'contrast_left_passive', 'contrast_right_passive', 'spks_passive', 'pupil_passive', 'wheel_passive', 'prev_reward', 'ccf', 'ccf_axes', 'cellid_orig', 'reaction_time', 'face', 'face_passive', 'licks', 'licks_passive'])\n"
     ]
    },
    {
     "ename": "IndexError",
     "evalue": "ignored",
     "output_type": "error",
     "traceback": [
      "\u001b[0;31m---------------------------------------------------------------------------\u001b[0m",
      "\u001b[0;31mIndexError\u001b[0m                                Traceback (most recent call last)",
      "\u001b[0;32m<ipython-input-40-646f479e269f>\u001b[0m in \u001b[0;36m<module>\u001b[0;34m()\u001b[0m\n\u001b[1;32m      1\u001b[0m \u001b[0mprint\u001b[0m\u001b[0;34m(\u001b[0m\u001b[0malldat\u001b[0m\u001b[0;34m[\u001b[0m\u001b[0;36m0\u001b[0m\u001b[0;34m]\u001b[0m\u001b[0;34m.\u001b[0m\u001b[0mkeys\u001b[0m\u001b[0;34m(\u001b[0m\u001b[0;34m)\u001b[0m\u001b[0;34m)\u001b[0m\u001b[0;34m\u001b[0m\u001b[0;34m\u001b[0m\u001b[0m\n\u001b[1;32m      2\u001b[0m \u001b[0;31m#print(np.size(alldat[0].spks))\u001b[0m\u001b[0;34m\u001b[0m\u001b[0;34m\u001b[0m\u001b[0;34m\u001b[0m\u001b[0m\n\u001b[0;32m----> 3\u001b[0;31m \u001b[0mlen\u001b[0m\u001b[0;34m(\u001b[0m\u001b[0malldat\u001b[0m\u001b[0;34m[\u001b[0m\u001b[0;34m'spks'\u001b[0m\u001b[0;34m]\u001b[0m\u001b[0;34m)\u001b[0m\u001b[0;34m\u001b[0m\u001b[0;34m\u001b[0m\u001b[0m\n\u001b[0m",
      "\u001b[0;31mIndexError\u001b[0m: only integers, slices (`:`), ellipsis (`...`), numpy.newaxis (`None`) and integer or boolean arrays are valid indices"
     ]
    }
   ],
   "source": [
    "print(alldat[0].keys())\n",
    "#print(np.size(alldat[0].spks))\n"
   ]
  },
  {
   "cell_type": "code",
   "execution_count": null,
   "metadata": {
    "colab": {
     "base_uri": "https://localhost:8080/",
     "height": 129
    },
    "id": "jyNZF8eu2GJa",
    "outputId": "c88064b7-a26c-473a-e8f9-3c7efb2900c6"
   },
   "outputs": [
    {
<<<<<<< HEAD
     "ename": "SyntaxError",
     "evalue": "ignored",
     "output_type": "error",
     "traceback": [
      "\u001b[0;36m  File \u001b[0;32m\"<ipython-input-32-e146bc8bfbed>\"\u001b[0;36m, line \u001b[0;32m12\u001b[0m\n\u001b[0;31m    def trimData(trimStartIn, trimEndIn):\u001b[0m\n\u001b[0m      ^\u001b[0m\n\u001b[0;31mSyntaxError\u001b[0m\u001b[0;31m:\u001b[0m invalid syntax\n"
     ]
=======
      "cell_type": "code",
      "metadata": {
        "id": "YIWKAdEiUP9S",
        "colab": {
          "base_uri": "https://localhost:8080/"
        },
        "outputId": "07e847dc-dca6-4cd7-9557-be6f96650ad6"
      },
      "source": [
        "print('hello!!!')"
      ],
      "execution_count": null,
      "outputs": [
        {
          "output_type": "stream",
          "text": [
            "hello\n"
          ],
          "name": "stdout"
        }
      ]
    },
    {
      "cell_type": "code",
      "metadata": {
        "id": "trAIAMpxXXyn",
        "outputId": "b18d2df4-7c86-447b-a689-d7b139297e75",
        "colab": {
          "base_uri": "https://localhost:8080/"
        }
      },
      "source": [
        "1+1 "
      ],
      "execution_count": 3,
      "outputs": [
        {
          "output_type": "execute_result",
          "data": {
            "text/plain": [
              "2"
            ]
          },
          "metadata": {
            "tags": []
          },
          "execution_count": 3
        }
      ]
>>>>>>> 73c05943536ff4cb0f7b6ba42257dea1f8c23093
    }
   ],
   "source": [
    "import copy\n",
    "class SteinmetzSession:\n",
    "  data = []\n",
    "  binSize = 10\n",
    "  nTrials = []\n",
    "  nNeurons = []\n",
    "  trialLen = 0\n",
    "  trimStart = \"trialStart\"\n",
    "  trimEnd =  \"trialEnd\"\n",
    "  def __init__(self, dataIn):\n",
    "    self.data = copy.deepcopy(dataIn)\n",
    "    dims1 = np.shape(dataIn['spks'])\n",
    "    self.nTrials = dims1[1]\n",
    "    self.nNeurons = dims1[0]\n",
    "    self.trialLen = dims1[2]\n",
    "\n",
    "  def binData(self, binSizeIn): # Inputs: data, scalar for binning. Combines binSizeIn bins together to bin data smaller Ex. binSizeIn of 5 on the original dataset combines every 5 10 ms bins into one 50 ms bin across all trials.\n",
    "    varsToRebinSum = ['spks']\n",
    "    varsToRebinMean = ['wheel', 'pupil']\n",
    "    spikes = self.data['spks']\n",
    "    histVec = range(0,self.trialLen+1, binSizeIn)\n",
    "    spikesBin = np.zeros((self.nNeurons, self.nTrials, len(histVec)))\n",
    "    print(histVec)\n",
    "    for trial in range(self.nTrials):\n",
    "      spikes1 = np.squeeze(spikes[:,trial,:])\n",
    "      for time1 in range(len(histVec)-1):\n",
    "        spikesBin[:,trial, time1] = np.sum(spikes1[:, histVec[time1]:histVec[time1+1]-1], axis=1)\n",
    "\n",
    "    spikesBin = spikesBin[:,:,:-1]\n",
    "    self.data['spks'] = spikesBin\n",
    "    self.trialLen = len(histVec) -1\n",
    "    self.binSize = self.binSize*binSizeIn\n",
    "\n",
    "    \n",
    "    s = \"Binned spikes, turning a \" + repr(np.shape(spikes)) + \" matrix into a \" + repr(np.shape(spikesBin)) + \" matrix\"\n",
    "    print(s)\n",
    "\n",
    "  def plotTrial(self, trialNum): # Basic function to plot the firing rate during a single trial. Used for debugging trimming and binning\n",
    "    plt.imshow(np.squeeze(self.data['spks'][:,trialNum,:])**.5, aspect = 'auto')\n",
    "    plt.xlabel(\"Time (bins)\")\n",
    "    plt.ylabel(\"Neuron #\")\n",
    "\n",
    "  def trimData(self, trimStartIn, trimEndIn): # TODO: Implement trial trimming\n",
    "    return 0\n",
    "\n",
    "\n",
    "s1 = SteinmetzSession(alldat[0])\n",
    "\n",
    "\n",
    "\n"
   ]
  },
  {
   "cell_type": "code",
   "execution_count": null,
   "metadata": {
    "id": "YIWKAdEiUP9S"
   },
   "outputs": [],
   "source": []
  }
 ],
 "metadata": {
  "colab": {
   "collapsed_sections": [],
   "include_colab_link": true,
   "name": "project_group_OkapisJohn.ipynb",
   "provenance": []
  },
  "kernelspec": {
   "display_name": "Python 3",
   "language": "python",
   "name": "python3"
  },
  "language_info": {
   "codemirror_mode": {
    "name": "ipython",
    "version": 3
   },
   "file_extension": ".py",
   "mimetype": "text/x-python",
   "name": "python",
   "nbconvert_exporter": "python",
   "pygments_lexer": "ipython3",
   "version": "3.7.6"
  }
 },
 "nbformat": 4,
 "nbformat_minor": 1
}
